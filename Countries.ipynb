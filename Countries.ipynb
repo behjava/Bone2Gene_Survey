{
 "cells": [
  {
   "cell_type": "code",
   "execution_count": null,
   "id": "0",
   "metadata": {},
   "outputs": [],
   "source": [
    "import numpy as np\n",
    "import pandas as pd\n",
    "import plotly.express as px\n",
    "import plotly.graph_objects as go"
   ]
  },
  {
   "cell_type": "code",
   "execution_count": null,
   "id": "1",
   "metadata": {},
   "outputs": [],
   "source": [
    "# Load the CSV file, without skipping any rows initially\n",
    "file_path = \"/Users/javanmardi/Work/IGSB/Bone2Gene_Survey_Study/3_progressive_results/B2G Survey_9_29_2024.csv\"\n",
    "initial_df = pd.read_csv(file_path, sep=';', header=None)"
   ]
  },
  {
   "cell_type": "code",
   "execution_count": null,
   "id": "2",
   "metadata": {},
   "outputs": [],
   "source": [
    "# Set the first row as the header of the dataframe\n",
    "headers = initial_df.iloc[0]\n",
    "questions = initial_df.iloc[1]\n",
    "header_question_dict = dict(zip(headers, questions))"
   ]
  },
  {
   "cell_type": "code",
   "execution_count": null,
   "id": "3",
   "metadata": {},
   "outputs": [],
   "source": [
    "# Now, read the CSV again, this time skipping the first three rows and setting the first row as header\n",
    "data_df = pd.read_csv(file_path, sep=';', skiprows=[1, 2])\n",
    "\n",
    "# Show the first few rows of the dataframe to verify\n",
    "# print(\"\\nData Preview:\")\n",
    "data_df.head()"
   ]
  },
  {
   "cell_type": "code",
   "execution_count": null,
   "id": "4",
   "metadata": {},
   "outputs": [],
   "source": [
    "#the finished surveys\n",
    "\n",
    "finished_df=data_df[data_df['Finished']==True]\n",
    "finished_df.shape"
   ]
  },
  {
   "cell_type": "code",
   "execution_count": null,
   "id": "5",
   "metadata": {},
   "outputs": [],
   "source": [
    "# Identify empty columns\n",
    "empty_columns = finished_df.isna().all()\n",
    "\n",
    "# Drop empty columns\n",
    "non_empty_columns = finished_df.drop(columns=empty_columns[empty_columns].index)\n",
    "non_empty_columns.to_csv('non_empty_columns.csv', index=False)\n",
    "non_empty_columns.shape"
   ]
  },
  {
   "cell_type": "code",
   "execution_count": null,
   "id": "6",
   "metadata": {},
   "outputs": [],
   "source": [
    "# answered desired questions\n",
    "question_columns = ['Q2', 'Q4', 'Q10', 'Q11','Q16','Q20','Q21','Q22','Q23','Q24','Q31','Q34','Q35']  # List of all question column names\n",
    "\n",
    "# Count missing values in the specified columns for each row\n",
    "missing_counts = non_empty_columns[question_columns].isna().sum(axis=1)\n",
    "\n",
    "# Filter rows where the count of missing values is less than or equal to 3\n",
    "data = non_empty_columns[missing_counts <= 3]\n",
    "data.shape"
   ]
  },
  {
   "cell_type": "markdown",
   "id": "7",
   "metadata": {},
   "source": [
    "# Q13"
   ]
  },
  {
   "cell_type": "code",
   "execution_count": null,
   "id": "8",
   "metadata": {},
   "outputs": [],
   "source": [
    "header_question_dict['Q13']"
   ]
  },
  {
   "cell_type": "code",
   "execution_count": null,
   "id": "9",
   "metadata": {},
   "outputs": [],
   "source": [
    "# Calculate frequency of values in the column\n",
    "Q13_value_counts = data['Q13'].value_counts().reset_index()\n",
    "Q13_value_counts.columns = ['Value', 'Count']\n",
    "Q13_value_counts"
   ]
  },
  {
   "cell_type": "code",
   "execution_count": null,
   "id": "10",
   "metadata": {},
   "outputs": [],
   "source": [
    "# Mapping dictionary\n",
    "country_mapping = {\n",
    "    'US': 'United States',\n",
    "    'United States of America': 'United States',\n",
    "    'USA': 'United States',\n",
    "    'usa': 'United States',\n",
    "    'united states': 'United States',\n",
    "    'germany': 'Germany',\n",
    "    'Deutschland': 'Germany',\n",
    "    'portugal': 'Portugal',\n",
    "    'canada': 'Canada',\n",
    "    'FR': 'France',\n",
    "    'italy': 'Italy',\n",
    "    'ITALY': 'Italy',\n",
    "    'Moscow': 'Russia',\n",
    "    'Slowenien': 'Slovenia',\n",
    "    'Turkiye ':'Turkey',\n",
    "    'TÃ¼rkiye':'Turkey',\n",
    "    'BELGIUM':'Belgium',\n",
    "    'Austria (Europe)':'Austria',\n",
    "    'UK':'United Kingdom',\n",
    "    'United Kingdom ':'United Kingdom'\n",
    "}\n",
    "\n",
    "# Replace the country names in the DataFrame\n",
    "# data['Q13'] = data['Q13'].replace(country_mapping)\n",
    "\n",
    "# Replace the country names in the DataFrame using .loc for safe and explicit indexing\n",
    "data.loc[:, 'Q13'] = data['Q13'].replace(country_mapping)\n",
    "\n"
   ]
  },
  {
   "cell_type": "code",
   "execution_count": null,
   "id": "11",
   "metadata": {},
   "outputs": [],
   "source": [
    "np.sum(Q13_value_counts['Count'])"
   ]
  },
  {
   "cell_type": "markdown",
   "id": "12",
   "metadata": {},
   "source": [
    "# Figure"
   ]
  },
  {
   "cell_type": "code",
   "execution_count": null,
   "id": "13",
   "metadata": {},
   "outputs": [],
   "source": [
    "# Create a world map using Plotly Express scatter_geo\n",
    "fig = px.scatter_geo(Q13_value_counts, locations=\"Value\", locationmode='country names', color=\"Count\", size=\"Count\",\n",
    "                     projection=\"natural earth\", color_continuous_scale=\"Jet_r\", size_max=60)\n",
    "\n",
    "# Center align the title\n",
    "fig.update_layout(title={\n",
    "    'text': 'Participants locations',\n",
    "    'x': 0.5,  # Align center\n",
    "    'xanchor': 'center',\n",
    "    'yanchor': 'top',\n",
    "    'font': {'size': 24}  # Increase font size\n",
    "})\n",
    "\n",
    "# Remove the margins\n",
    "fig.update_layout(margin=dict(l=0, r=0, t=50, b=10),\n",
    "    width=1600,  # Set the width of the figure\n",
    "    height=600,  # Set the height of the figure\n",
    "    coloraxis_colorbar={\n",
    "        'title': 'Count',  # Define your color bar title here\n",
    "        'title_font': {'size': 20},  # Increase the font size of the color bar title\n",
    "        'tickfont': {'size': 16}  # Increase the font size of the tick values\n",
    "    }\n",
    ")\n",
    "\n",
    "\n",
    "fig.show()\n",
    "\n",
    "fig.write_image(\"world_map.png\", width=1600, height=750, scale=6)"
   ]
  },
  {
   "cell_type": "code",
   "execution_count": null,
   "id": "14",
   "metadata": {},
   "outputs": [],
   "source": []
  },
  {
   "cell_type": "markdown",
   "id": "15",
   "metadata": {},
   "source": [
    "# Histogram"
   ]
  },
  {
   "cell_type": "code",
   "execution_count": null,
   "id": "16",
   "metadata": {},
   "outputs": [],
   "source": [
    "fig = go.Figure(\n",
    "    go.Bar(y=Q13_value_counts['Count'], x=Q13_value_counts['Value'], orientation='v', showlegend=False, \n",
    "           text=Q13_value_counts['Count'], textposition='auto', textfont=dict(size=24))\n",
    "\n",
    ")\n",
    "\n",
    "# bar_chart_1_order = ['Less than 5', '5 to 10', '10 to 20', '20 to 50', '50 to 100', '100 to 200', 'Greater than 200']\n",
    "# fig.update_xaxes(categoryorder='array', categoryarray=bar_chart_1_order)\n",
    "\n",
    "\n",
    "fig.update_xaxes(showgrid=True, zeroline=True, showline=True, linewidth=1, linecolor='black', mirror=False, tickfont=dict(size=24), tickangle=40)\n",
    "fig.update_yaxes(showgrid=True, zeroline=True, showline=False, linewidth=1, linecolor='black', mirror=False, tickfont=dict(size=24), visible=False)\n",
    "\n",
    "fig.update_layout(\n",
    "    width=1600,   # Set the width of the figure\n",
    "    height=400   # Set the height of the figure\n",
    ")\n",
    "\n",
    "fig.update_layout(\n",
    "    paper_bgcolor=\"white\",\n",
    "    plot_bgcolor=\"white\",\n",
    "    title_text=\"\",  # Add a title to the figure Number of participants per country\n",
    "    title_x=0.5,  # Center the title horizontally\n",
    "    title_font=dict(size=30),\n",
    "    margin=dict(t=50, l=50, r=50, b=50)\n",
    ")\n",
    "\n",
    "fig.show()\n",
    "fig.write_image(\"countries_histogram.png\", width=1600, height=400, scale=6)"
   ]
  },
  {
   "cell_type": "markdown",
   "id": "17",
   "metadata": {},
   "source": [
    "# Continents"
   ]
  },
  {
   "cell_type": "code",
   "execution_count": null,
   "id": "18",
   "metadata": {},
   "outputs": [],
   "source": [
    "from pycountry_convert import country_alpha2_to_continent_code, country_name_to_country_alpha2\n"
   ]
  },
  {
   "cell_type": "code",
   "execution_count": null,
   "id": "19",
   "metadata": {},
   "outputs": [],
   "source": [
    "# Function to get continent from country name\n",
    "def get_continent(country):\n",
    "    try:\n",
    "        alpha2 = country_name_to_country_alpha2(country)\n",
    "        continent_code = country_alpha2_to_continent_code(alpha2)\n",
    "        return continent_code\n",
    "    except:\n",
    "        return 'Unknown'  # for countries that are not found\n",
    "\n",
    "# Apply the function to create a new continent column\n",
    "Q13_value_counts['Continent'] = Q13_value_counts['Value'].apply(get_continent)\n",
    "\n",
    "# Group by continent and sum the counts\n",
    "result = Q13_value_counts.groupby('Continent')['Count'].sum().reset_index()\n",
    "\n",
    "print(result)"
   ]
  },
  {
   "cell_type": "code",
   "execution_count": null,
   "id": "20",
   "metadata": {},
   "outputs": [],
   "source": [
    "Q13_value_counts"
   ]
  },
  {
   "cell_type": "code",
   "execution_count": null,
   "id": "21",
   "metadata": {},
   "outputs": [],
   "source": []
  }
 ],
 "metadata": {
  "kernelspec": {
   "display_name": "Python 3 (ipykernel)",
   "language": "python",
   "name": "python3"
  },
  "language_info": {
   "codemirror_mode": {
    "name": "ipython",
    "version": 3
   },
   "file_extension": ".py",
   "mimetype": "text/x-python",
   "name": "python",
   "nbconvert_exporter": "python",
   "pygments_lexer": "ipython3",
   "version": "3.10.8"
  }
 },
 "nbformat": 4,
 "nbformat_minor": 5
}
