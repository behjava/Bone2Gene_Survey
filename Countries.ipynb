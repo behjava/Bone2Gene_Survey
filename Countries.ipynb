{
 "cells": [
  {
   "cell_type": "code",
   "execution_count": null,
   "id": "0",
   "metadata": {},
   "outputs": [],
   "source": [
    "import numpy as np\n",
    "import pandas as pd\n",
    "import plotly.express as px\n",
    "import plotly.graph_objects as go"
   ]
  },
  {
   "cell_type": "code",
   "execution_count": null,
   "id": "1",
   "metadata": {},
   "outputs": [],
   "source": [
    "# Load the CSV file, without skipping any rows initially\n",
    "file_path = \"/Users/javanmardi/Work/IGSB/Bone2Gene_Survey_Study/3_progressive_results/B2G Survey_9_29_2024.csv\"\n",
    "initial_df = pd.read_csv(file_path, sep=';', header=None)"
   ]
  },
  {
   "cell_type": "code",
   "execution_count": null,
   "id": "2",
   "metadata": {},
   "outputs": [],
   "source": [
    "# Set the first row as the header of the dataframe\n",
    "headers = initial_df.iloc[0]\n",
    "questions = initial_df.iloc[1]\n",
    "header_question_dict = dict(zip(headers, questions))"
   ]
  },
  {
   "cell_type": "code",
   "execution_count": null,
   "id": "3",
   "metadata": {},
   "outputs": [],
   "source": [
    "# Now, read the CSV again, this time skipping the first three rows and setting the first row as header\n",
    "data_df = pd.read_csv(file_path, sep=';', skiprows=[1, 2])\n",
    "\n",
    "# Show the first few rows of the dataframe to verify\n",
    "# print(\"\\nData Preview:\")\n",
    "data_df.head()"
   ]
  },
  {
   "cell_type": "code",
   "execution_count": null,
   "id": "4",
   "metadata": {},
   "outputs": [],
   "source": [
    "#the finished surveys\n",
    "\n",
    "finished_df=data_df[data_df['Finished']==True]\n",
    "finished_df.shape"
   ]
  },
  {
   "cell_type": "code",
   "execution_count": null,
   "id": "5",
   "metadata": {},
   "outputs": [],
   "source": [
    "# Identify empty columns\n",
    "empty_columns = finished_df.isna().all()\n",
    "\n",
    "# Drop empty columns\n",
    "data = finished_df.drop(columns=empty_columns[empty_columns].index)"
   ]
  },
  {
   "cell_type": "markdown",
   "id": "6",
   "metadata": {},
   "source": [
    "# Q13"
   ]
  },
  {
   "cell_type": "code",
   "execution_count": null,
   "id": "7",
   "metadata": {},
   "outputs": [],
   "source": [
    "header_question_dict['Q13']"
   ]
  },
  {
   "cell_type": "code",
   "execution_count": null,
   "id": "8",
   "metadata": {},
   "outputs": [],
   "source": [
    "# Calculate frequency of values in the column\n",
    "Q13_value_counts = data['Q13'].value_counts().reset_index()\n",
    "Q13_value_counts.columns = ['Value', 'Count']\n",
    "Q13_value_counts"
   ]
  },
  {
   "cell_type": "code",
   "execution_count": null,
   "id": "9",
   "metadata": {},
   "outputs": [],
   "source": [
    "# Mapping dictionary\n",
    "country_mapping = {\n",
    "    'US': 'United States',\n",
    "    'United States of America': 'United States',\n",
    "    'USA': 'United States',\n",
    "    'usa': 'United States',\n",
    "    'united states': 'United States',\n",
    "    'germany': 'Germany',\n",
    "    'Deutschland': 'Germany',\n",
    "    'portugal': 'Portugal',\n",
    "    'canada': 'Canada',\n",
    "    'FR': 'France',\n",
    "    'italy': 'Italy',\n",
    "    'ITALY': 'Italy',\n",
    "    'Moscow': 'Russia',\n",
    "    'Slowenien': 'Slovenia',\n",
    "    'Turkiye ':'Turkey',\n",
    "    'TÃ¼rkiye':'Turkey',\n",
    "    'BELGIUM':'Belgium',\n",
    "    'Austria (Europe)':'Austria',\n",
    "    'UK':'United Kingdom',\n",
    "    'United Kingdom ':'United Kingdom'\n",
    "}\n",
    "\n",
    "# Replace the country names in the DataFrame\n",
    "data['Q13'] = data['Q13'].replace(country_mapping)\n"
   ]
  },
  {
   "cell_type": "code",
   "execution_count": null,
   "id": "10",
   "metadata": {},
   "outputs": [],
   "source": []
  },
  {
   "cell_type": "markdown",
   "id": "11",
   "metadata": {},
   "source": [
    "# Figure"
   ]
  },
  {
   "cell_type": "code",
   "execution_count": null,
   "id": "12",
   "metadata": {},
   "outputs": [],
   "source": [
    "# Create a world map using Plotly Express scatter_geo\n",
    "fig = px.scatter_geo(Q13_value_counts, locations=\"Value\", locationmode='country names', color=\"Count\", size=\"Count\",\n",
    "                     projection=\"natural earth\", color_continuous_scale=\"Jet_r\", size_max=60)\n",
    "\n",
    "# Center align the title\n",
    "fig.update_layout(title={\n",
    "    'text': 'The locations where the participants primarily work',\n",
    "    'x': 0.5,  # Align center\n",
    "    'xanchor': 'center',\n",
    "    'yanchor': 'top',\n",
    "    'font': {'size': 24}  # Increase font size\n",
    "})\n",
    "\n",
    "# Remove the margins\n",
    "fig.update_layout(margin=dict(l=0, r=0, t=30, b=0))\n",
    "\n",
    "\n",
    "fig.show()\n",
    "\n",
    "fig.write_image(\"world_map.png\", width=1200, height=700, scale=6)"
   ]
  },
  {
   "cell_type": "code",
   "execution_count": null,
   "id": "13",
   "metadata": {},
   "outputs": [],
   "source": []
  },
  {
   "cell_type": "code",
   "execution_count": null,
   "id": "14",
   "metadata": {},
   "outputs": [],
   "source": []
  }
 ],
 "metadata": {
  "kernelspec": {
   "display_name": "Python 3 (ipykernel)",
   "language": "python",
   "name": "python3"
  },
  "language_info": {
   "codemirror_mode": {
    "name": "ipython",
    "version": 3
   },
   "file_extension": ".py",
   "mimetype": "text/x-python",
   "name": "python",
   "nbconvert_exporter": "python",
   "pygments_lexer": "ipython3",
   "version": "3.10.8"
  }
 },
 "nbformat": 4,
 "nbformat_minor": 5
}
