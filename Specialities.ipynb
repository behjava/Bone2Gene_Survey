{
 "cells": [
  {
   "cell_type": "code",
   "execution_count": null,
   "id": "0",
   "metadata": {},
   "outputs": [],
   "source": [
    "import numpy as np\n",
    "import pandas as pd\n",
    "import plotly.express as px"
   ]
  },
  {
   "cell_type": "code",
   "execution_count": null,
   "id": "1",
   "metadata": {},
   "outputs": [],
   "source": [
    "# Load the CSV file, without skipping any rows initially\n",
    "file_path = \"/Users/javanmardi/Work/IGSB/Bone2Gene_Survey_Study/3_progressive_results/B2G Survey_9_29_2024.csv\"\n",
    "initial_df = pd.read_csv(file_path, sep=';', header=None)"
   ]
  },
  {
   "cell_type": "code",
   "execution_count": null,
   "id": "2",
   "metadata": {},
   "outputs": [],
   "source": [
    "# Set the first row as the header of the dataframe\n",
    "headers = initial_df.iloc[0]\n",
    "questions = initial_df.iloc[1]\n",
    "header_question_dict = dict(zip(headers, questions))"
   ]
  },
  {
   "cell_type": "code",
   "execution_count": null,
   "id": "3",
   "metadata": {},
   "outputs": [],
   "source": [
    "# Now, read the CSV again, this time skipping the first three rows and setting the first row as header\n",
    "data_df = pd.read_csv(file_path, sep=';', skiprows=[1, 2])\n",
    "\n",
    "# Show the first few rows of the dataframe to verify\n",
    "# print(\"\\nData Preview:\")\n",
    "data_df.head()"
   ]
  },
  {
   "cell_type": "code",
   "execution_count": null,
   "id": "4",
   "metadata": {},
   "outputs": [],
   "source": [
    "#the finished surveys\n",
    "\n",
    "finished_df=data_df[data_df['Finished']==True]\n",
    "finished_df.shape"
   ]
  },
  {
   "cell_type": "code",
   "execution_count": null,
   "id": "5",
   "metadata": {},
   "outputs": [],
   "source": [
    "# Identify empty columns\n",
    "empty_columns = finished_df.isna().all()\n",
    "\n",
    "# Drop empty columns\n",
    "data = finished_df.drop(columns=empty_columns[empty_columns].index)"
   ]
  },
  {
   "cell_type": "markdown",
   "id": "6",
   "metadata": {},
   "source": [
    "***\n",
    "# Specialities"
   ]
  },
  {
   "cell_type": "code",
   "execution_count": null,
   "id": "7",
   "metadata": {},
   "outputs": [],
   "source": [
    "header_question_dict['Q8']"
   ]
  },
  {
   "cell_type": "code",
   "execution_count": null,
   "id": "8",
   "metadata": {},
   "outputs": [],
   "source": [
    "fig = px.histogram(data, x='Q8')\n",
    "fig.show()"
   ]
  },
  {
   "cell_type": "code",
   "execution_count": null,
   "id": "9",
   "metadata": {},
   "outputs": [],
   "source": [
    "# Calculate frequency of values in the column\n",
    "Q8_value_counts = data['Q8'].value_counts().reset_index()\n",
    "Q8_value_counts.columns = ['Value', 'Count']"
   ]
  },
  {
   "cell_type": "code",
   "execution_count": null,
   "id": "10",
   "metadata": {},
   "outputs": [],
   "source": [
    "Q8_value_counts"
   ]
  },
  {
   "cell_type": "code",
   "execution_count": null,
   "id": "11",
   "metadata": {},
   "outputs": [],
   "source": [
    "# Function to calculate frequency of each option\n",
    "def calculate_frequency(df, column_name):\n",
    "    # Split the responses into individual options\n",
    "    all_options = df[column_name].str.split(',').explode()\n",
    "    # Count the frequency of each option\n",
    "    frequency = all_options.value_counts().reset_index()\n",
    "    frequency.columns = ['Option', 'Frequency']\n",
    "    return frequency\n",
    "\n",
    "\n",
    "# Calculate frequency\n",
    "frequency_df = calculate_frequency(data, 'Q8')\n",
    "\n",
    "# Sort the dataframe by Frequency in descending order\n",
    "frequency_df = frequency_df.sort_values(by='Frequency', ascending=False)"
   ]
  },
  {
   "cell_type": "code",
   "execution_count": null,
   "id": "12",
   "metadata": {},
   "outputs": [],
   "source": [
    "frequency_df"
   ]
  },
  {
   "cell_type": "code",
   "execution_count": null,
   "id": "13",
   "metadata": {},
   "outputs": [],
   "source": []
  },
  {
   "cell_type": "code",
   "execution_count": null,
   "id": "14",
   "metadata": {},
   "outputs": [],
   "source": []
  },
  {
   "cell_type": "code",
   "execution_count": null,
   "id": "15",
   "metadata": {},
   "outputs": [],
   "source": [
    "import plotly.graph_objects as go\n",
    "\n",
    "# Data: Job titles and their corresponding populations\n",
    "specs = {\n",
    "    'Medical Geneticist': 30,\n",
    "    'Pediatrician': 24,\n",
    "    'Endocrinologist': 20,\n",
    "    'Radiologist': 6,\n",
    "    'Orthopaedic surgeon': 3,\n",
    "    'Rheumatologist': 2\n",
    "}\n",
    "\n",
    "# Positions for each job title (you can adjust these as needed)\n",
    "positions = {\n",
    "    'Medical Geneticist': (2, 3),\n",
    "    'Pediatrician': (2.8, 3),\n",
    "    'Endocrinologist': (3.4, 3),\n",
    "    'Radiologist': (2.8, 2.5),\n",
    "    'Orthopaedic surgeon': (2, 1.5),\n",
    "    'Rheumatologist': (3,1.5)\n",
    "}\n",
    "\n",
    "# Create the scatter plot\n",
    "fig = go.Figure()\n",
    "\n",
    "# Add circles to the plot\n",
    "for job, count in specs.items():\n",
    "    x, y = positions[job]\n",
    "    fig.add_trace(go.Scatter(\n",
    "        x=[x],\n",
    "        y=[y],\n",
    "        text=[count],\n",
    "        mode='markers+text',\n",
    "        marker=dict(\n",
    "            size=[count*10],  # Adjust the multiplier for size scaling\n",
    "            sizemode='area',\n",
    "            sizeref=2.*max(specs.values())/(40.**2),\n",
    "            sizemin=4\n",
    "        ),\n",
    "        name=job  # Allows for legend entries\n",
    "    ))\n",
    "    \n",
    "# fig.update_traces(textposition='top center')    \n",
    "\n",
    "fig.update_layout(\n",
    "    title='Population of Various Medical Specialists',\n",
    "    xaxis=dict(\n",
    "        title='Arbitrary X Position',\n",
    "        range=[0, 6]  # Set the x-axis range (min, max)\n",
    "    ),\n",
    "    yaxis=dict(\n",
    "        title='Arbitrary Y Position',\n",
    "        range=[0, 6]  # Set the y-axis range (min, max)\n",
    "    ),\n",
    "    showlegend=True,\n",
    "    width=800,  # Set the width of the figure (in pixels)\n",
    "    height=600  # Set the height of the figure (in pixels)\n",
    ")\n",
    "\n",
    "# Show the plot\n",
    "fig.show()\n"
   ]
  },
  {
   "cell_type": "code",
   "execution_count": null,
   "id": "16",
   "metadata": {},
   "outputs": [],
   "source": []
  },
  {
   "cell_type": "code",
   "execution_count": null,
   "id": "17",
   "metadata": {},
   "outputs": [],
   "source": []
  },
  {
   "cell_type": "code",
   "execution_count": null,
   "id": "18",
   "metadata": {},
   "outputs": [],
   "source": [
    "# Calculate frequency of values in the column\n",
    "Q9_value_counts = data['Q9'].value_counts().reset_index()\n",
    "Q9_value_counts.columns = ['Value', 'Count']\n",
    "Q9_value_counts"
   ]
  },
  {
   "cell_type": "code",
   "execution_count": null,
   "id": "19",
   "metadata": {},
   "outputs": [],
   "source": [
    "# px.scatter(df, x=Q8_value_counts['Value'], y=Q8_value_counts['Count'], size=Q8_value_counts['Count'])"
   ]
  },
  {
   "cell_type": "code",
   "execution_count": null,
   "id": "20",
   "metadata": {},
   "outputs": [],
   "source": []
  },
  {
   "cell_type": "code",
   "execution_count": null,
   "id": "21",
   "metadata": {},
   "outputs": [],
   "source": [
    "filtered_df = data[data['Q8'] == 'Radiologist,Other, please specify']"
   ]
  },
  {
   "cell_type": "code",
   "execution_count": null,
   "id": "22",
   "metadata": {},
   "outputs": [],
   "source": [
    "filtered_df['Q9']"
   ]
  },
  {
   "cell_type": "code",
   "execution_count": null,
   "id": "23",
   "metadata": {},
   "outputs": [],
   "source": []
  },
  {
   "cell_type": "code",
   "execution_count": null,
   "id": "24",
   "metadata": {},
   "outputs": [],
   "source": []
  }
 ],
 "metadata": {
  "kernelspec": {
   "display_name": "Python 3 (ipykernel)",
   "language": "python",
   "name": "python3"
  },
  "language_info": {
   "codemirror_mode": {
    "name": "ipython",
    "version": 3
   },
   "file_extension": ".py",
   "mimetype": "text/x-python",
   "name": "python",
   "nbconvert_exporter": "python",
   "pygments_lexer": "ipython3",
   "version": "3.10.8"
  }
 },
 "nbformat": 4,
 "nbformat_minor": 5
}
