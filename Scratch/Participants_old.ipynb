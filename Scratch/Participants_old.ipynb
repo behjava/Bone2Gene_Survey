{
 "cells": [
  {
   "cell_type": "code",
   "execution_count": null,
   "id": "f620d878-9ba7-4d51-8930-26ba1dd29b5b",
   "metadata": {},
   "outputs": [],
   "source": [
    "import numpy as np\n",
    "import pandas as pd\n",
    "import plotly.express as px"
   ]
  },
  {
   "cell_type": "code",
   "execution_count": null,
   "id": "c7c2a604-8786-48d3-aae4-8fbcf8fd5945",
   "metadata": {},
   "outputs": [],
   "source": [
    "# Load the CSV file, without skipping any rows initially\n",
    "file_path = \"/Users/javanmardi/Work/IGSB/Bone2Gene_Survey_Study/3_progressive_results/B2G Survey_7_7_2024.csv\"\n",
    "initial_df = pd.read_csv(file_path, sep=';', header=None)"
   ]
  },
  {
   "cell_type": "code",
   "execution_count": null,
   "id": "90a2424a-5dff-4aa7-a331-41b88cb4b0a8",
   "metadata": {},
   "outputs": [],
   "source": [
    "# Set the first row as the header of the dataframe\n",
    "headers = initial_df.iloc[0]\n",
    "questions = initial_df.iloc[1]\n",
    "header_question_dict = dict(zip(headers, questions))"
   ]
  },
  {
   "cell_type": "code",
   "execution_count": null,
   "id": "08775cc1-67b8-4d1c-9fdb-af2099e06bfe",
   "metadata": {},
   "outputs": [],
   "source": [
    "# Now, read the CSV again, this time skipping the first three rows and setting the first row as header\n",
    "data_df = pd.read_csv(file_path, sep=';', skiprows=[1, 2])\n",
    "\n",
    "# Show the first few rows of the dataframe to verify\n",
    "# print(\"\\nData Preview:\")\n",
    "data_df.head()"
   ]
  },
  {
   "cell_type": "code",
   "execution_count": null,
   "id": "1a36fa54-a7cb-401d-ac78-987f669c8518",
   "metadata": {},
   "outputs": [],
   "source": [
    "#the finished surveys\n",
    "\n",
    "finished_df=data_df[data_df['Finished']==True]\n",
    "finished_df.shape"
   ]
  },
  {
   "cell_type": "code",
   "execution_count": null,
   "id": "dddd7f44-1f22-459a-93af-82d10682848f",
   "metadata": {},
   "outputs": [],
   "source": [
    "# Identify empty columns\n",
    "empty_columns = finished_df.isna().all()\n",
    "\n",
    "# Drop empty columns\n",
    "data = finished_df.drop(columns=empty_columns[empty_columns].index)"
   ]
  },
  {
   "cell_type": "markdown",
   "id": "6d864073-1c10-477b-b324-69b5c2dd0341",
   "metadata": {},
   "source": [
    "***\n",
    "# Participants Info"
   ]
  },
  {
   "cell_type": "code",
   "execution_count": null,
   "id": "3c20470c-a25a-4697-913a-926ff81b57f2",
   "metadata": {},
   "outputs": [],
   "source": [
    "header_question_dict['Q2']"
   ]
  },
  {
   "cell_type": "code",
   "execution_count": null,
   "id": "f4be9c64-9562-4988-a874-63e28a4fa336",
   "metadata": {},
   "outputs": [],
   "source": [
    "fig = px.histogram(data, x='Q2')\n",
    "fig.show()"
   ]
  },
  {
   "cell_type": "code",
   "execution_count": null,
   "id": "c26e2c9b-5b66-4f3c-9706-a6c8a60e264c",
   "metadata": {},
   "outputs": [],
   "source": [
    "# Calculate frequency of values in the column\n",
    "Q2_value_counts = data['Q2'].value_counts().reset_index()\n",
    "Q2_value_counts.columns = ['Value', 'Count']"
   ]
  },
  {
   "cell_type": "code",
   "execution_count": null,
   "id": "5a47912e-2350-4773-ba02-6067c8818476",
   "metadata": {},
   "outputs": [],
   "source": [
    "print(Q2_value_counts['Value'].to_string())"
   ]
  },
  {
   "cell_type": "code",
   "execution_count": null,
   "id": "d8b2a385-4707-41a3-997a-f2d1e4020385",
   "metadata": {},
   "outputs": [],
   "source": [
    "import re # the regular expression module\n",
    "\n",
    "# Define the dictionary with current and desired texts\n",
    "replacement_dict = {\n",
    "    r'I am involved with both*': 'Both',\n",
    "    r'I am involved in the diagnostic process.': 'The diagnostic process',\n",
    "    r'I am involved in the pre-*': 'Pre- and post-diagnosis care',\n",
    "    r'I am NOT involved in*': 'None'\n",
    "}\n",
    "\n",
    "# Function to replace text using regular expressions\n",
    "def replace_text(value, replacement_dict):\n",
    "    for pattern, new_text in replacement_dict.items():\n",
    "        if re.match(pattern, value):\n",
    "            return new_text\n",
    "    return value\n",
    "\n",
    "# Apply the function to the DataFrame\n",
    "Q2_value_counts['Value'] = Q2_value_counts['Value'].apply(lambda x: replace_text(x, replacement_dict))\n",
    "\n",
    "# Display the updated DataFrame\n",
    "print(Q2_value_counts)"
   ]
  },
  {
   "cell_type": "code",
   "execution_count": null,
   "id": "b2fe1089-f86e-41dd-a520-ecf798c98cc5",
   "metadata": {},
   "outputs": [],
   "source": [
    "fig = px.bar(Q2_value_counts, x=\"Count\", y=\"Value\", orientation='h')\n",
    "fig.show()"
   ]
  },
  {
   "cell_type": "markdown",
   "id": "b835256b-d8f9-4f9a-8a94-f78ab777ebec",
   "metadata": {},
   "source": [
    "***"
   ]
  },
  {
   "cell_type": "code",
   "execution_count": null,
   "id": "0b61519a-abcb-4ceb-879e-6a04b6ba167a",
   "metadata": {},
   "outputs": [],
   "source": [
    "header_question_dict['Q10']"
   ]
  },
  {
   "cell_type": "code",
   "execution_count": null,
   "id": "4238349c-a966-40e5-8d89-c5f1633200e9",
   "metadata": {},
   "outputs": [],
   "source": [
    "# Calculate frequency of values in the Q10 column\n",
    "Q10_value_counts = data['Q10'].value_counts().reset_index()\n",
    "Q10_value_counts.columns = ['Value', 'Count']"
   ]
  },
  {
   "cell_type": "markdown",
   "id": "7304e1a7-2578-47b5-9fb9-50bcd5a1aace",
   "metadata": {},
   "source": [
    "***"
   ]
  },
  {
   "cell_type": "code",
   "execution_count": null,
   "id": "d62d7359-0bdc-4d16-9e25-ae3250e834f7",
   "metadata": {},
   "outputs": [],
   "source": [
    "header_question_dict['Q4']"
   ]
  },
  {
   "cell_type": "code",
   "execution_count": null,
   "id": "9da4c2ab-6fcf-4c03-b5c4-074ff43423a2",
   "metadata": {},
   "outputs": [],
   "source": [
    "# Calculate frequency of values in the Q4 column\n",
    "Q4_value_counts = data['Q4'].value_counts().reset_index()\n",
    "Q4_value_counts.columns = ['Value', 'Count']"
   ]
  },
  {
   "cell_type": "code",
   "execution_count": null,
   "id": "57f0ef1f-b6a7-46db-8c8b-fa7dc3ff8a49",
   "metadata": {},
   "outputs": [],
   "source": [
    "Q4_value_counts"
   ]
  },
  {
   "cell_type": "markdown",
   "id": "11bddaed-0433-4ecc-92cd-7cd4318b2b87",
   "metadata": {},
   "source": [
    "***"
   ]
  },
  {
   "cell_type": "code",
   "execution_count": null,
   "id": "2cf4cc4b-798d-4849-a5e4-bb654ab404b5",
   "metadata": {},
   "outputs": [],
   "source": [
    "header_question_dict['Q11']"
   ]
  },
  {
   "cell_type": "code",
   "execution_count": null,
   "id": "87f21724-2e4d-4f87-9144-48b3f9252e23",
   "metadata": {},
   "outputs": [],
   "source": [
    "# Calculate frequency of values in the Q20 column\n",
    "Q11_value_counts = data['Q11'].value_counts().reset_index()\n",
    "Q11_value_counts.columns = ['Value', 'Count']"
   ]
  },
  {
   "cell_type": "code",
   "execution_count": null,
   "id": "e9f748ee-160a-40dc-a778-d0aee76e2fa3",
   "metadata": {},
   "outputs": [],
   "source": [
    "Q11_value_counts"
   ]
  },
  {
   "cell_type": "markdown",
   "id": "d2cdb7df-9a1e-4f39-9e37-6673d11832fa",
   "metadata": {},
   "source": [
    "***"
   ]
  },
  {
   "cell_type": "markdown",
   "id": "01c44c9d-448d-4e55-aaf0-e7be0763a00b",
   "metadata": {},
   "source": [
    "# Subplots"
   ]
  },
  {
   "cell_type": "code",
   "execution_count": null,
   "id": "531ac23c-fa7f-4275-b74a-c8a3802fd03c",
   "metadata": {},
   "outputs": [],
   "source": [
    "import plotly.graph_objects as go\n",
    "from plotly.subplots import make_subplots\n",
    "\n",
    "# Create the figure with 2x2 subplots\n",
    "fig = make_subplots(\n",
    "    rows=2, cols=2,\n",
    "    subplot_titles=('Involved in', 'Experience', 'Primary role in healthcare', 'Healthcare facility'),\n",
    "    specs=[[{\"type\": \"bar\"}, {\"type\": \"pie\"}],\n",
    "           [{\"type\": \"bar\"}, {\"type\": \"bar\"}]]\n",
    ")\n",
    "\n",
    "\n",
    "# Add Bar Chart 1\n",
    "fig.add_trace(\n",
    "    go.Bar(x=Q2_value_counts['Count'], y=Q2_value_counts['Value'], orientation='h', showlegend=False, \n",
    "           text=Q2_value_counts['Count'], textposition='outside', textfont=dict(size=15)),\n",
    "    row=1, col=1\n",
    ")\n",
    "#, marker=dict(color='grey')\n",
    "\n",
    "bar_chart_1_order = ['None', 'Both','Pre- and post-diagnosis patient care','The diagnostic process']\n",
    "fig.update_yaxes(categoryorder='array', categoryarray=bar_chart_1_order, row=1, col=1)\n",
    "\n",
    "\n",
    "fig.update_xaxes(showgrid=True, zeroline=True, showline=True, linewidth=1, linecolor='black', mirror=False, tickfont=dict(size=18), row=1, col=1, visible=False)\n",
    "fig.update_yaxes(showgrid=True, zeroline=True, showline=False, linewidth=1, linecolor='black', mirror=False, tickfont=dict(size=18), row=1, col=1)\n",
    "\n",
    "\n",
    "#######################################################################################################\n",
    "# Add Pie Chart 1\n",
    "pie_chart_1_colors = ['rgba(0,204,150,255)', 'rgba(255, 0, 0, 0.6)', 'rgba(245, 156, 9, 0.6)']\n",
    "\n",
    "fig.add_trace(\n",
    "    go.Pie(labels=Q10_value_counts['Value'], values=Q10_value_counts['Count'], showlegend=True, \n",
    "           textinfo='value', rotation=150, textposition='outside', hole=0.5, marker=dict(colors=pie_chart_1_colors), \n",
    "           textfont=dict(size=15)),\n",
    "    row=1, col=2\n",
    ")\n",
    "\n",
    "\n",
    "\n",
    "########################################################################################################\n",
    "# Add Bar Chart 2\n",
    "fig.add_trace(\n",
    "    go.Bar(x=Q4_value_counts['Count'], y=Q4_value_counts['Value'], orientation='h', showlegend=False, \n",
    "           text=Q4_value_counts['Count'], textposition='outside', textfont=dict(size=15), marker=dict(color='rgba(99,110,250,255)')),\n",
    "    row=2, col=1\n",
    ")\n",
    "\n",
    "bar_chart_2_order = ['Physician Assistant or Nurse Practitioner', 'Nurse','Researcher (but not a formal clinician)','Genetic Counselor','Physician']\n",
    "fig.update_yaxes(categoryorder='array', categoryarray=bar_chart_2_order, row=2, col=1)\n",
    "\n",
    "\n",
    "fig.update_xaxes(showgrid=True, zeroline=True, showline=True, linewidth=1, linecolor='black', mirror=False, tickfont=dict(size=18), row=2, col=1, visible=False)\n",
    "fig.update_yaxes(showgrid=True, zeroline=True, showline=False, linewidth=1, linecolor='black', mirror=False, tickfont=dict(size=18), row=2, col=1)\n",
    "\n",
    "\n",
    "\n",
    "########################################################################################################\n",
    "# Add Pie Chart 2\n",
    "\n",
    "# pie_chart_2_colors = ['rgba(99,110,250,255)', 'rgba(144, 215, 246, 0.86)']\n",
    "# pie_chart_2_colors = ['rgba(4, 100, 156, 0.86)', 'rgba(4, 100, 156, 0.3)']\n",
    "\n",
    "# fig.add_trace(\n",
    "#     go.Pie(labels=Q11_value_counts['Value'], values=Q11_value_counts['Count'], textinfo='value+label', \n",
    "#            rotation=130, textposition='outside', hole=0.5, marker=dict(colors=pie_chart_2_colors), textfont=dict(size=15), showlegend=False),\n",
    "#     row=2, col=2\n",
    "# )\n",
    "\n",
    "\n",
    "# Add Bar Chart 3\n",
    "fig.add_trace(\n",
    "    go.Bar(x=Q11_value_counts['Value'], y=Q11_value_counts['Count'], showlegend=False, \n",
    "           text=Q11_value_counts['Count'], textposition='outside', textfont=dict(size=15), marker=dict(color='rgba(99,110,250,255)')),\n",
    "    row=2, col=2\n",
    ")\n",
    "\n",
    "\n",
    "########################################################################################################\n",
    "\n",
    "\n",
    "# Update layout to adjust subplot titles and layout\n",
    "fig.update_layout(\n",
    "    height=1000\n",
    ")\n",
    "\n",
    "fig.update_layout(\n",
    "    paper_bgcolor=\"white\",\n",
    "    plot_bgcolor=\"white\",\n",
    ")\n",
    "\n",
    "fig.update_layout(\n",
    "    legend=dict(\n",
    "        font=dict(size=18)  # Increase the font size of the legend\n",
    "    )\n",
    ")\n",
    "\n",
    "\n",
    "\n",
    "# Update annotations (subplot titles) with a larger font size\n",
    "for annotation in fig['layout']['annotations']:\n",
    "    annotation['font'] = dict(size=19)  # Change font size as needed\n",
    "\n",
    "\n",
    "# Show the figure\n",
    "fig.show()\n",
    "fig.write_image(\"Participants.png\", width=1300, height=1000, scale=6)"
   ]
  },
  {
   "cell_type": "markdown",
   "id": "04caf81d-43ae-4abb-9bf7-974d7bb8456a",
   "metadata": {},
   "source": [
    "***"
   ]
  },
  {
   "cell_type": "markdown",
   "id": "b77c8d79-b8e2-44f0-8879-e1081c0519d4",
   "metadata": {},
   "source": [
    "# Single plots"
   ]
  },
  {
   "cell_type": "code",
   "execution_count": null,
   "id": "81169b32-0814-4457-9e19-7471d76d626d",
   "metadata": {},
   "outputs": [],
   "source": [
    "fig = go.Figure(\n",
    "    go.Bar(x=Q2_value_counts['Count'], y=Q2_value_counts['Value'], orientation='h', showlegend=False, \n",
    "           text=Q2_value_counts['Count'], textposition='auto', textfont=dict(size=20))\n",
    "\n",
    ")\n",
    "\n",
    "bar_chart_1_order = ['None', 'Both','Pre- and post-diagnosis care','The diagnostic process']\n",
    "fig.update_yaxes(categoryorder='array', categoryarray=bar_chart_1_order)\n",
    "\n",
    "\n",
    "fig.update_xaxes(showgrid=True, zeroline=True, showline=True, linewidth=1, linecolor='black', mirror=False, tickfont=dict(size=18), visible=False)\n",
    "fig.update_yaxes(showgrid=True, zeroline=True, showline=False, linewidth=1, linecolor='black', mirror=False, tickfont=dict(size=18))\n",
    "\n",
    "fig.update_layout(\n",
    "    width=800,   # Set the width of the figure\n",
    "    height=600   # Set the height of the figure\n",
    ")\n",
    "\n",
    "fig.update_layout(\n",
    "    paper_bgcolor=\"white\",\n",
    "    plot_bgcolor=\"white\",\n",
    "    title_text=\"Number of participants involved in\",  # Add a title to the figure\n",
    "    title_x=0.5,  # Center the title horizontally\n",
    "    title_font=dict(size=24),\n",
    "    margin=dict(t=50, l=50, r=50, b=50)\n",
    ")\n",
    "\n",
    "fig.show()\n",
    "fig.write_image(\"Participants_involvement.png\", width=800, height=600, scale=6)"
   ]
  },
  {
   "cell_type": "code",
   "execution_count": null,
   "id": "509b577b-5615-4972-a897-d9fe94c038bf",
   "metadata": {},
   "outputs": [],
   "source": [
    "pie_chart_1_colors = ['rgba(0,204,150,255)', 'rgba(255, 0, 0, 0.6)', 'rgba(245, 156, 9, 0.6)']\n",
    "\n",
    "fig = go.Figure(\n",
    "    go.Pie(labels=Q10_value_counts['Value'], values=Q10_value_counts['Count'], showlegend=True, \n",
    "           textinfo='value', rotation=150, textposition='inside', hole=0.5, marker=dict(colors=pie_chart_1_colors), \n",
    "           textfont=dict(size=20))\n",
    "\n",
    ")\n",
    "\n",
    "fig.update_layout(\n",
    "    width=800,   # Set the width of the figure\n",
    "    height=600   # Set the height of the figure\n",
    ")\n",
    "\n",
    "fig.update_layout(\n",
    "    paper_bgcolor=\"white\",\n",
    "    plot_bgcolor=\"white\",\n",
    "    title_text=\"Experience\",  # Add a title to the figure\n",
    "    title_x=0.5,  # Center the title horizontally\n",
    "    title_font=dict(size=24),\n",
    "    margin=dict(t=50, l=50, r=50, b=50)\n",
    ")\n",
    "\n",
    "\n",
    "fig.update_layout(\n",
    "    legend=dict(\n",
    "        font=dict(\n",
    "            size=18  # Set the font size for legend text\n",
    "        )\n",
    "    )\n",
    ")\n",
    "\n",
    "fig.show()\n",
    "fig.write_image(\"Participants_experience.png\", width=800, height=600, scale=6)"
   ]
  },
  {
   "cell_type": "code",
   "execution_count": null,
   "id": "dea155fd-684e-4ef1-bef0-6a137b22c3dc",
   "metadata": {},
   "outputs": [],
   "source": [
    "fig = go.Figure(\n",
    "    go.Bar(x=Q4_value_counts['Count'], y=Q4_value_counts['Value'], orientation='h', showlegend=False, \n",
    "           text=Q4_value_counts['Count'], textposition='auto', textfont=dict(size=20), marker=dict(color='rgba(99,110,250,255)'))\n",
    ")\n",
    "\n",
    "bar_chart_2_order = ['Physician Assistant or Nurse Practitioner', 'Nurse','Researcher (but not a formal clinician)','Genetic Counselor','Physician']\n",
    "fig.update_yaxes(categoryorder='array', categoryarray=bar_chart_2_order)\n",
    "\n",
    "\n",
    "\n",
    "fig.update_xaxes(showgrid=True, zeroline=True, showline=True, linewidth=1, linecolor='black', mirror=False, tickfont=dict(size=18), visible=False)\n",
    "fig.update_yaxes(showgrid=True, zeroline=True, showline=False, linewidth=1, linecolor='black', mirror=False, tickfont=dict(size=18))\n",
    "\n",
    "fig.update_layout(\n",
    "    width=850,   # Set the width of the figure\n",
    "    height=600   # Set the height of the figure\n",
    ")\n",
    "\n",
    "fig.update_layout(\n",
    "    paper_bgcolor=\"white\",\n",
    "    plot_bgcolor=\"white\",\n",
    "    title_text=\"Primary role in healthcare\",  # Add a title to the figure\n",
    "    title_x=0.5,  # Center the title horizontally\n",
    "    title_font=dict(size=24),\n",
    "    margin=dict(t=50, l=50, r=50, b=50)\n",
    ")\n",
    "\n",
    "fig.show()\n",
    "fig.write_image(\"Participants_role.png\", width=800, height=600, scale=6)"
   ]
  },
  {
   "cell_type": "code",
   "execution_count": null,
   "id": "a69028fe-763f-4c4f-95cb-34017d0491c1",
   "metadata": {},
   "outputs": [],
   "source": [
    "fig = go.Figure(\n",
    "    go.Pie(labels=Q11_value_counts['Value'], values=Q11_value_counts['Count'], showlegend=False, \n",
    "           textinfo='value+label', rotation=150, textposition='auto', hole=0.5, marker=dict(colors=px.colors.sequential.Blues_r), \n",
    "           textfont=dict(size=20))\n",
    "\n",
    ")\n",
    "\n",
    "fig.update_layout(\n",
    "    width=800,   # Set the width of the figure\n",
    "    height=600   # Set the height of the figure\n",
    ")\n",
    "\n",
    "fig.update_layout(\n",
    "    paper_bgcolor=\"white\",\n",
    "    plot_bgcolor=\"white\",\n",
    "    title_text=\"Experience\",  # Add a title to the figure\n",
    "    title_x=0.5,  # Center the title horizontally\n",
    "    title_font=dict(size=24),\n",
    "    margin=dict(t=50, l=50, r=50, b=50)\n",
    ")\n",
    "\n",
    "\n",
    "fig.update_layout(\n",
    "    legend=dict(\n",
    "        font=dict(\n",
    "            size=18  # Set the font size for legend text\n",
    "        )\n",
    "    )\n",
    ")\n",
    "\n",
    "fig.show()\n",
    "fig.write_image(\"Participants_facilities.png\", width=800, height=600, scale=6)"
   ]
  },
  {
   "cell_type": "code",
   "execution_count": null,
   "id": "10c3c5d8-9c50-4641-bb0c-10e00765f0d8",
   "metadata": {},
   "outputs": [],
   "source": []
  },
  {
   "cell_type": "code",
   "execution_count": null,
   "id": "ed30f60e-b51b-4f58-8c1e-98e7642e3c69",
   "metadata": {},
   "outputs": [],
   "source": []
  },
  {
   "cell_type": "code",
   "execution_count": null,
   "id": "27675645-0a2e-4d1b-a977-ac12e36ec8da",
   "metadata": {},
   "outputs": [],
   "source": []
  },
  {
   "cell_type": "code",
   "execution_count": null,
   "id": "55c9f871-7cef-4f74-95cd-f1dcc1a50886",
   "metadata": {},
   "outputs": [],
   "source": []
  }
 ],
 "metadata": {
  "kernelspec": {
   "display_name": "Python 3 (ipykernel)",
   "language": "python",
   "name": "python3"
  },
  "language_info": {
   "codemirror_mode": {
    "name": "ipython",
    "version": 3
   },
   "file_extension": ".py",
   "mimetype": "text/x-python",
   "name": "python",
   "nbconvert_exporter": "python",
   "pygments_lexer": "ipython3",
   "version": "3.10.9"
  }
 },
 "nbformat": 4,
 "nbformat_minor": 5
}
