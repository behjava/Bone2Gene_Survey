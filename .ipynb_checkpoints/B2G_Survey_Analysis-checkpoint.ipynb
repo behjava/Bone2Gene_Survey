{
 "cells": [
  {
   "cell_type": "code",
   "execution_count": 1,
   "id": "8166214c-f0c3-4185-a2bb-914dd58221a0",
   "metadata": {},
   "outputs": [],
   "source": [
    "import numpy as np\n",
    "import pandas as pd\n",
    "import plotly.express as px"
   ]
  },
  {
   "cell_type": "code",
   "execution_count": 2,
   "id": "2ac816d5-60db-4f5e-a5fc-fdc0e83a7bcf",
   "metadata": {},
   "outputs": [],
   "source": [
    "# Load the CSV file, without skipping any rows initially\n",
    "file_path = \"/Users/javanmardi/Work/IGSB/Bone2Gene_Survey_Study/3_progressive_results/B2G Survey_7_1_2024.csv\"\n",
    "initial_df = pd.read_csv(file_path, sep=';', header=None)"
   ]
  },
  {
   "cell_type": "code",
   "execution_count": null,
   "id": "01586476-a543-46a3-b494-df6859cf60a1",
   "metadata": {},
   "outputs": [],
   "source": []
  }
 ],
 "metadata": {
  "kernelspec": {
   "display_name": "Python 3 (ipykernel)",
   "language": "python",
   "name": "python3"
  },
  "language_info": {
   "codemirror_mode": {
    "name": "ipython",
    "version": 3
   },
   "file_extension": ".py",
   "mimetype": "text/x-python",
   "name": "python",
   "nbconvert_exporter": "python",
   "pygments_lexer": "ipython3",
   "version": "3.10.9"
  }
 },
 "nbformat": 4,
 "nbformat_minor": 5
}
