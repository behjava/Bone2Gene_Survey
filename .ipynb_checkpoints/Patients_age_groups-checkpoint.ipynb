{
 "cells": [
  {
   "cell_type": "code",
   "execution_count": null,
   "id": "0",
   "metadata": {},
   "outputs": [],
   "source": [
    "import numpy as np\n",
    "import pandas as pd\n",
    "import plotly.express as px"
   ]
  },
  {
   "cell_type": "code",
   "execution_count": null,
   "id": "1",
   "metadata": {},
   "outputs": [],
   "source": [
    "# Load the CSV file, without skipping any rows initially\n",
    "file_path = \"/Users/javanmardi/Work/IGSB/Bone2Gene_Survey_Study/3_progressive_results/B2G Survey_9_29_2024.csv\"\n",
    "initial_df = pd.read_csv(file_path, sep=';', header=None)"
   ]
  },
  {
   "cell_type": "code",
   "execution_count": null,
   "id": "2",
   "metadata": {},
   "outputs": [],
   "source": [
    "# Set the first row as the header of the dataframe\n",
    "headers = initial_df.iloc[0]\n",
    "questions = initial_df.iloc[1]\n",
    "header_question_dict = dict(zip(headers, questions))"
   ]
  },
  {
   "cell_type": "code",
   "execution_count": null,
   "id": "3",
   "metadata": {},
   "outputs": [],
   "source": [
    "# Now, read the CSV again, this time skipping the first three rows and setting the first row as header\n",
    "data_df = pd.read_csv(file_path, sep=';', skiprows=[1, 2])\n",
    "\n",
    "# Show the first few rows of the dataframe to verify\n",
    "# print(\"\\nData Preview:\")\n",
    "data_df.head()"
   ]
  },
  {
   "cell_type": "code",
   "execution_count": null,
   "id": "4",
   "metadata": {},
   "outputs": [],
   "source": [
    "#the finished surveys\n",
    "\n",
    "finished_df=data_df[data_df['Finished']==True]\n",
    "finished_df.shape"
   ]
  },
  {
   "cell_type": "code",
   "execution_count": null,
   "id": "5",
   "metadata": {},
   "outputs": [],
   "source": [
    "# Identify empty columns\n",
    "empty_columns = finished_df.isna().all()\n",
    "\n",
    "# Drop empty columns\n",
    "data = finished_df.drop(columns=empty_columns[empty_columns].index)"
   ]
  },
  {
   "cell_type": "code",
   "execution_count": null,
   "id": "6",
   "metadata": {},
   "outputs": [],
   "source": [
    "header_question_dict['Q19']"
   ]
  },
  {
   "cell_type": "code",
   "execution_count": null,
   "id": "7",
   "metadata": {},
   "outputs": [],
   "source": [
    "fig = px.histogram(data, x='Q19')\n",
    "fig.show()"
   ]
  },
  {
   "cell_type": "code",
   "execution_count": null,
   "id": "8",
   "metadata": {},
   "outputs": [],
   "source": [
    "# Function to calculate frequency of each option\n",
    "def calculate_frequency(df, column_name):\n",
    "    # Split the responses into individual options\n",
    "    all_options = df[column_name].str.split(',').explode()\n",
    "    # Count the frequency of each option\n",
    "    frequency = all_options.value_counts().reset_index()\n",
    "    frequency.columns = ['Option', 'Frequency']\n",
    "    return frequency\n",
    "\n",
    "\n",
    "# Calculate frequency\n",
    "frequency_df = calculate_frequency(data, 'Q19')\n",
    "\n",
    "# Sort the dataframe by Frequency in descending order\n",
    "frequency_df = frequency_df.sort_values(by='Frequency', ascending=False)"
   ]
  },
  {
   "cell_type": "code",
   "execution_count": null,
   "id": "9",
   "metadata": {},
   "outputs": [],
   "source": [
    "frequency_df"
   ]
  },
  {
   "cell_type": "code",
   "execution_count": null,
   "id": "10",
   "metadata": {},
   "outputs": [],
   "source": [
    "fig = px.bar(frequency_df, y=\"Option\", x=\"Frequency\", orientation='h')\n",
    "\n",
    "# Update layout to reverse the order\n",
    "fig.update_layout(\n",
    "    yaxis=dict(\n",
    "        categoryorder='total ascending'  # This will reverse the order\n",
    "    ),\n",
    "    width=800,   # Set the width of the figure\n",
    "    height=600   # Set the height of the figure\n",
    ")\n",
    "\n",
    "fig.show()"
   ]
  },
  {
   "cell_type": "code",
   "execution_count": null,
   "id": "11",
   "metadata": {},
   "outputs": [],
   "source": []
  },
  {
   "cell_type": "markdown",
   "id": "12",
   "metadata": {},
   "source": [
    "# Plot"
   ]
  },
  {
   "cell_type": "code",
   "execution_count": null,
   "id": "13",
   "metadata": {},
   "outputs": [],
   "source": [
    "import plotly.graph_objects as go"
   ]
  },
  {
   "cell_type": "code",
   "execution_count": null,
   "id": "14",
   "metadata": {},
   "outputs": [],
   "source": [
    "fig = go.Figure(\n",
    "    go.Bar(x=frequency_df['Frequency'], y=frequency_df['Option'], orientation='h', showlegend=False, \n",
    "           text=frequency_df['Frequency'], textposition='auto', textfont=dict(size=24))\n",
    "\n",
    ")\n",
    "\n",
    "bar_chart_1_order = ['Greater than 18 years old', '10 to 18 years old','1 to 10 years old','Neonates and infants (0-1 year old)']\n",
    "fig.update_yaxes(categoryorder='array', categoryarray=bar_chart_1_order)\n",
    "\n",
    "\n",
    "fig.update_xaxes(showgrid=True, zeroline=True, showline=True, linewidth=1, linecolor='black', mirror=False, tickfont=dict(size=24), visible=False)\n",
    "fig.update_yaxes(showgrid=True, zeroline=True, showline=False, linewidth=1, linecolor='black', mirror=False, tickfont=dict(size=24))\n",
    "\n",
    "fig.update_layout(\n",
    "    width=800,   # Set the width of the figure\n",
    "    height=600   # Set the height of the figure\n",
    ")\n",
    "\n",
    "fig.update_layout(\n",
    "    paper_bgcolor=\"white\",\n",
    "    plot_bgcolor=\"white\",\n",
    "    title_text=\"Patients Age Groups\",  # Add a title to the figure\n",
    "    title_x=0.5,  # Center the title horizontally\n",
    "    title_font=dict(size=30),\n",
    "    margin=dict(t=50, l=50, r=50, b=50)\n",
    ")\n",
    "\n",
    "fig.show()\n",
    "fig.write_image(\"Patients_age_group.png\", width=800, height=600, scale=6)"
   ]
  },
  {
   "cell_type": "markdown",
   "id": "15",
   "metadata": {},
   "source": [
    "# Other approaches"
   ]
  },
  {
   "cell_type": "code",
   "execution_count": null,
   "id": "16",
   "metadata": {},
   "outputs": [],
   "source": [
    "# Calculate frequency of values in the column\n",
    "Q19_value_counts = data['Q19'].value_counts().reset_index()\n",
    "Q19_value_counts.columns = ['Value', 'Count']\n",
    "Q19_value_counts"
   ]
  },
  {
   "cell_type": "code",
   "execution_count": null,
   "id": "17",
   "metadata": {},
   "outputs": [],
   "source": [
    "Q19_value_counts.to_csv('Scratch/patient_age_group_responses.txt', index=False)"
   ]
  },
  {
   "cell_type": "code",
   "execution_count": null,
   "id": "18",
   "metadata": {},
   "outputs": [],
   "source": [
    "# import plotly.io as pio\n",
    "\n",
    "# # Set the renderer to 'notebook' or 'iframe' for Jupyter\n",
    "# pio.renderers.default = 'png'"
   ]
  },
  {
   "cell_type": "markdown",
   "id": "19",
   "metadata": {},
   "source": [
    "### Try Treemap "
   ]
  },
  {
   "cell_type": "code",
   "execution_count": null,
   "id": "20",
   "metadata": {},
   "outputs": [],
   "source": [
    "import pandas as pd\n",
    "import plotly.express as px\n",
    "\n",
    "# Sample DataFrame based on the data you provided\n",
    "data = {\n",
    "    'Value': [\n",
    "        \"Neonates and infants (0-1 year old),1 to 10 years old,10 to 18 years old,Greater than 18 years old\",\n",
    "        \"Neonates and infants (0-1 year old),1 to 10 years old,10 to 18 years old\",\n",
    "        \"Greater than 18 years old\",\n",
    "        \"10 to 18 years old,Greater than 18 years old\",\n",
    "        \"1 to 10 years old,10 to 18 years old\",\n",
    "        \"Neonates and infants (0-1 year old),Greater than 18 years old\",\n",
    "        \"1 to 10 years old,10 to 18 years old,Greater than 18 years old\",\n",
    "        \"Neonates and infants (0-1 year old)\",\n",
    "        \"10 to 18 years old\"\n",
    "    ],\n",
    "    'Count': [50, 34, 7, 5, 4, 1, 1, 1, 1]\n",
    "}\n",
    "\n",
    "df = pd.DataFrame(data)\n",
    "\n",
    "# Split the 'Value' column into a list of age groups for each row to create hierarchical paths\n",
    "df['Value'] = df['Value'].str.split(',')\n",
    "\n",
    "# Create separate columns for each level in the hierarchy and replace missing levels with a placeholder\n",
    "df['Level_1'] = df['Value'].apply(lambda x: x[0] if len(x) > 0 else None)\n",
    "df['Level_2'] = df['Value'].apply(lambda x: x[1] if len(x) > 1 else '')\n",
    "df['Level_3'] = df['Value'].apply(lambda x: x[2] if len(x) > 2 else '')\n",
    "df['Level_4'] = df['Value'].apply(lambda x: x[3] if len(x) > 3 else '')\n",
    "\n",
    "# Create the Treemap using Plotly Express\n",
    "fig = px.treemap(df, \n",
    "                 path=['Level_1', 'Level_2', 'Level_3', 'Level_4'],  # Define the hierarchical path\n",
    "                 values='Count',   # Use the 'Count' column for the size of each section\n",
    "                 title=\"Age Group Combinations in Survey Responses\")\n",
    "\n",
    "# Show the plot\n",
    "fig.show()\n",
    "fig.write_image(\"Patients_age_group_Treemap.png\", width=800, height=600, scale=6)"
   ]
  },
  {
   "cell_type": "code",
   "execution_count": null,
   "id": "21",
   "metadata": {},
   "outputs": [],
   "source": []
  },
  {
   "cell_type": "code",
   "execution_count": null,
   "id": "22",
   "metadata": {},
   "outputs": [],
   "source": []
  }
 ],
 "metadata": {
  "kernelspec": {
   "display_name": "Python 3 (ipykernel)",
   "language": "python",
   "name": "python3"
  },
  "language_info": {
   "codemirror_mode": {
    "name": "ipython",
    "version": 3
   },
   "file_extension": ".py",
   "mimetype": "text/x-python",
   "name": "python",
   "nbconvert_exporter": "python",
   "pygments_lexer": "ipython3",
   "version": "3.10.8"
  }
 },
 "nbformat": 4,
 "nbformat_minor": 5
}
