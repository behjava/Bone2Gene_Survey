{
 "cells": [
  {
   "cell_type": "code",
   "execution_count": null,
   "id": "0",
   "metadata": {},
   "outputs": [],
   "source": [
    "import numpy as np\n",
    "import pandas as pd\n",
    "import plotly.express as px"
   ]
  },
  {
   "cell_type": "code",
   "execution_count": null,
   "id": "1",
   "metadata": {},
   "outputs": [],
   "source": [
    "# Load the CSV file, without skipping any rows initially\n",
    "file_path = \"/Users/javanmardi/Work/IGSB/Bone2Gene_Survey_Study/3_progressive_results/B2G Survey_9_29_2024.csv\"\n",
    "initial_df = pd.read_csv(file_path, sep=';', header=None)"
   ]
  },
  {
   "cell_type": "code",
   "execution_count": null,
   "id": "2",
   "metadata": {},
   "outputs": [],
   "source": [
    "# Set the first row as the header of the dataframe\n",
    "headers = initial_df.iloc[0]\n",
    "questions = initial_df.iloc[1]\n",
    "header_question_dict = dict(zip(headers, questions))"
   ]
  },
  {
   "cell_type": "code",
   "execution_count": null,
   "id": "3",
   "metadata": {},
   "outputs": [],
   "source": [
    "# Now, read the CSV again, this time skipping the first three rows and setting the first row as header\n",
    "data_df = pd.read_csv(file_path, sep=';', skiprows=[1, 2])\n",
    "\n",
    "# Show the first few rows of the dataframe to verify\n",
    "# print(\"\\nData Preview:\")\n",
    "data_df.head()"
   ]
  },
  {
   "cell_type": "code",
   "execution_count": null,
   "id": "4",
   "metadata": {},
   "outputs": [],
   "source": [
    "#the finished surveys\n",
    "\n",
    "finished_df=data_df[data_df['Finished']==True]\n",
    "finished_df.shape"
   ]
  },
  {
   "cell_type": "code",
   "execution_count": null,
   "id": "5",
   "metadata": {},
   "outputs": [],
   "source": [
    "# Identify empty columns\n",
    "empty_columns = finished_df.isna().all()\n",
    "\n",
    "# Drop empty columns\n",
    "data = finished_df.drop(columns=empty_columns[empty_columns].index)"
   ]
  },
  {
   "cell_type": "code",
   "execution_count": null,
   "id": "6",
   "metadata": {},
   "outputs": [],
   "source": [
    "header_question_dict['Q16']"
   ]
  },
  {
   "cell_type": "code",
   "execution_count": null,
   "id": "7",
   "metadata": {},
   "outputs": [],
   "source": [
    "fig = px.histogram(data, x='Q16')\n",
    "fig.show()"
   ]
  },
  {
   "cell_type": "code",
   "execution_count": null,
   "id": "8",
   "metadata": {},
   "outputs": [],
   "source": [
    "# Calculate frequency of values in the column\n",
    "Q16_value_counts = data['Q16'].value_counts().reset_index()\n",
    "Q16_value_counts.columns = ['Value', 'Count']"
   ]
  },
  {
   "cell_type": "code",
   "execution_count": null,
   "id": "9",
   "metadata": {},
   "outputs": [],
   "source": [
    "Q16_value_counts"
   ]
  },
  {
   "cell_type": "markdown",
   "id": "10",
   "metadata": {},
   "source": [
    "# Plot"
   ]
  },
  {
   "cell_type": "code",
   "execution_count": null,
   "id": "11",
   "metadata": {},
   "outputs": [],
   "source": [
    "import plotly.graph_objects as go"
   ]
  },
  {
   "cell_type": "code",
   "execution_count": null,
   "id": "12",
   "metadata": {},
   "outputs": [],
   "source": [
    "fig = go.Figure(\n",
    "    go.Bar(y=Q16_value_counts['Count'], x=Q16_value_counts['Value'], orientation='v', showlegend=False, \n",
    "           text=Q16_value_counts['Count'], textposition='auto', textfont=dict(size=24))\n",
    "\n",
    ")\n",
    "\n",
    "bar_chart_1_order = ['Less than 5 per month', '5 to 10 per month', '10 to 20 per month', '20 to 50  per month', '50 to 100 per month', '100 to 200 per month', 'Greater than 200 per month']\n",
    "fig.update_xaxes(categoryorder='array', categoryarray=bar_chart_1_order)\n",
    "\n",
    "\n",
    "fig.update_xaxes(showgrid=True, zeroline=True, showline=True, linewidth=1, linecolor='black', mirror=False, tickfont=dict(size=24))\n",
    "fig.update_yaxes(showgrid=True, zeroline=True, showline=False, linewidth=1, linecolor='black', mirror=False, tickfont=dict(size=24), visible=False)\n",
    "\n",
    "fig.update_layout(\n",
    "    width=800,   # Set the width of the figure\n",
    "    height=600   # Set the height of the figure\n",
    ")\n",
    "\n",
    "fig.update_layout(\n",
    "    paper_bgcolor=\"white\",\n",
    "    plot_bgcolor=\"white\",\n",
    "    title_text=\"title\",  # Add a title to the figure\n",
    "    title_x=0.5,  # Center the title horizontally\n",
    "    title_font=dict(size=30),\n",
    "    margin=dict(t=50, l=50, r=50, b=50)\n",
    ")\n",
    "\n",
    "fig.show()\n",
    "fig.write_image(\"Patients_Numbers.png\", width=800, height=600, scale=6)"
   ]
  },
  {
   "cell_type": "code",
   "execution_count": null,
   "id": "13",
   "metadata": {},
   "outputs": [],
   "source": [
    "fig = go.Figure(\n",
    "    go.Bar(x=Q16_value_counts['Count'], y=Q16_value_counts['Value'], orientation='h', showlegend=False, \n",
    "           text=Q16_value_counts['Count'], textposition='auto', textfont=dict(size=24))\n",
    "\n",
    ")\n",
    "\n",
    "bar_chart_1_order = ['Less than 5 per month', '5 to 10 per month', '10 to 20 per month', '20 to 50  per month', '50 to 100 per month', '100 to 200 per month', 'Greater than 200 per month']\n",
    "fig.update_yaxes(categoryorder='array', categoryarray=bar_chart_1_order)\n",
    "\n",
    "\n",
    "fig.update_yaxes(showgrid=True, zeroline=True, showline=True, linewidth=1, linecolor='black', mirror=False, tickfont=dict(size=24))\n",
    "fig.update_xaxes(showgrid=True, zeroline=True, showline=False, linewidth=1, linecolor='black', mirror=False, tickfont=dict(size=24), visible=False)\n",
    "\n",
    "fig.update_layout(\n",
    "    width=800,   # Set the width of the figure\n",
    "    height=600   # Set the height of the figure\n",
    ")\n",
    "\n",
    "fig.update_layout(\n",
    "    paper_bgcolor=\"white\",\n",
    "    plot_bgcolor=\"white\",\n",
    "    title_text=\"Number of patients per month\",  # Add a title to the figure\n",
    "    title_x=0.5,  # Center the title horizontally\n",
    "    title_font=dict(size=30),\n",
    "    margin=dict(t=50, l=50, r=50, b=50)\n",
    ")\n",
    "\n",
    "fig.show()\n",
    "# fig.write_image(\"Patients_Numbers.png\", width=800, height=600, scale=6)"
   ]
  },
  {
   "cell_type": "code",
   "execution_count": null,
   "id": "14",
   "metadata": {},
   "outputs": [],
   "source": [
    "import re # the regular expression module\n",
    "\n",
    "# Define the dictionary with current and desired texts\n",
    "replacement_dict = {\n",
    "    r'20 to 50  per month': '20 to 50',\n",
    "    r'10 to 20 per month': '10 to 20',\n",
    "    r'50 to 100 per month': '50 to 100',\n",
    "    r'100 to 200 per month': '100 to 200',\n",
    "    r'5 to 10 per month': '5 to 10',\n",
    "    r'Less than 5 per month': 'Less than 5',\n",
    "    r'Greater than 200 per month': 'Greater than 200'\n",
    "    \n",
    "}\n",
    "\n",
    "# Function to replace text using regular expressions\n",
    "def replace_text(value, replacement_dict):\n",
    "    for pattern, new_text in replacement_dict.items():\n",
    "        if re.match(pattern, value):\n",
    "            return new_text\n",
    "    return value\n",
    "\n",
    "# Apply the function to the DataFrame\n",
    "Q16_value_counts['Value'] = Q16_value_counts['Value'].apply(lambda x: replace_text(x, replacement_dict))\n",
    "\n",
    "# Display the updated DataFrame\n",
    "print(Q16_value_counts)"
   ]
  },
  {
   "cell_type": "code",
   "execution_count": null,
   "id": "15",
   "metadata": {},
   "outputs": [],
   "source": [
    "fig = go.Figure(\n",
    "    go.Bar(y=Q16_value_counts['Count'], x=Q16_value_counts['Value'], orientation='v', showlegend=False, \n",
    "           text=Q16_value_counts['Count'], textposition='auto', textfont=dict(size=24))\n",
    "\n",
    ")\n",
    "\n",
    "bar_chart_1_order = ['Less than 5', '5 to 10', '10 to 20', '20 to 50', '50 to 100', '100 to 200', 'Greater than 200']\n",
    "fig.update_xaxes(categoryorder='array', categoryarray=bar_chart_1_order)\n",
    "\n",
    "\n",
    "fig.update_xaxes(showgrid=True, zeroline=True, showline=True, linewidth=1, linecolor='black', mirror=False, tickfont=dict(size=24))\n",
    "fig.update_yaxes(showgrid=True, zeroline=True, showline=False, linewidth=1, linecolor='black', mirror=False, tickfont=dict(size=24), visible=False)\n",
    "\n",
    "fig.update_layout(\n",
    "    width=800,   # Set the width of the figure\n",
    "    height=600   # Set the height of the figure\n",
    ")\n",
    "\n",
    "fig.update_layout(\n",
    "    paper_bgcolor=\"white\",\n",
    "    plot_bgcolor=\"white\",\n",
    "    title_text=\"Number of patients per month in the entire facility\",  # Add a title to the figure\n",
    "    title_x=0.5,  # Center the title horizontally\n",
    "    title_font=dict(size=30),\n",
    "    margin=dict(t=50, l=50, r=50, b=50)\n",
    ")\n",
    "\n",
    "fig.show()\n",
    "fig.write_image(\"Patients_Numbers.png\", width=800, height=600, scale=6)"
   ]
  },
  {
   "cell_type": "code",
   "execution_count": null,
   "id": "16",
   "metadata": {},
   "outputs": [],
   "source": []
  },
  {
   "cell_type": "code",
   "execution_count": null,
   "id": "17",
   "metadata": {},
   "outputs": [],
   "source": []
  }
 ],
 "metadata": {
  "kernelspec": {
   "display_name": "Python 3 (ipykernel)",
   "language": "python",
   "name": "python3"
  },
  "language_info": {
   "codemirror_mode": {
    "name": "ipython",
    "version": 3
   },
   "file_extension": ".py",
   "mimetype": "text/x-python",
   "name": "python",
   "nbconvert_exporter": "python",
   "pygments_lexer": "ipython3",
   "version": "3.10.8"
  }
 },
 "nbformat": 4,
 "nbformat_minor": 5
}
